{
 "cells": [
  {
   "cell_type": "code",
   "id": "initial_id",
   "metadata": {
    "collapsed": true,
    "ExecuteTime": {
     "end_time": "2025-03-04T13:43:29.679563Z",
     "start_time": "2025-03-04T13:43:29.500065Z"
    }
   },
   "source": [
    "import numpy as np\n",
    "import matplotlib.pyplot as plt\n",
    "from tqdm import tqdm\n",
    "\n",
    "data=np.loadtxt('movielens_100k.csv', delimiter=',',dtype=int) # 读取数据\n",
    "print('数据集大小:',len(data)) # 打印数据的数量\n",
    "data[:,:2]=data[:,:2]-1 # 将数据前2列的数字减1，统一索引\n",
    "\n",
    "users=set()\n",
    "items=set()\n",
    "for i,j,k in data:\n",
    "    users.add(i) # 将用户 ID 和电影 ID 分别添加到对应的集合中。由于集合的特性，重复的元素只会被添加一次。\n",
    "    items.add(j)\n",
    "user_num=len(users) # 用户数\n",
    "item_num=len(items) # 电影数\n",
    "print(f'用户数:{user_num},电影数：{item_num}')\n",
    "\n",
    "np.random.seed(0) # 设置随机数种子\n",
    "\n",
    "ratio=0.8 # 训练集和测试集划分比例依旧是0.8\n",
    "split=int(len(data)*ratio) # 划分数量\n",
    "np.random.shuffle(data) # 对数据集进行随机打乱\n",
    "train=data[:split] # 训练集\n",
    "test=data[split:] # 测试集\n",
    "\n",
    "user_cnt=np.bincount(train[:,0],minlength=user_num) # 统计数组中每个非负整数出现的次数，即用户m出现了n次\n",
    "item_cnt=np.bincount(train[:,1],minlength=item_num)\n",
    "print(user_cnt[:10]) # 打印前10个评分人评价的电影数量\n",
    "print(item_cnt[:10])\n",
    "\n",
    "user_train,user_test=train[:,0],test[:,0]\n",
    "item_train,item_test=train[:,1],test[:,1]\n",
    "y_train,y_test=train[:,2],test[:,2]"
   ],
   "outputs": [
    {
     "name": "stdout",
     "output_type": "stream",
     "text": [
      "数据集大小: 100000\n",
      "用户数:943,电影数：1682\n",
      "[215  47  42  19 139 170 320  47  18 156]\n",
      "[371 109  70 172  70  21 308 158 240  68]\n"
     ]
    }
   ],
   "execution_count": 7
  },
  {
   "metadata": {
    "ExecuteTime": {
     "end_time": "2025-03-04T13:43:29.683111Z",
     "start_time": "2025-03-04T13:43:29.680570Z"
    }
   },
   "cell_type": "code",
   "source": [
    "class MF:\n",
    "    \n",
    "    def __init__(self,N,M,d):\n",
    "        self.user_params=np.ones((N,d)) # 这个矩阵表示每个用户的特征向量，每一行对应一个用户的特征向量\n",
    "        self.item_params=np.ones((M,d))\n",
    "    \n",
    "    def pred(self,user_id,item_id):\n",
    "        user_param=self.user_params[user_id] # 从self.user_params矩阵中提取指定用户的特征向量\n",
    "        item_param=self.item_params[item_id]\n",
    "        rating_pred=np.sum(user_param*item_param,axis=1) # 计算用户特征向量和物品特征向量的逐元素乘积，并对结果在axis=1上求和，得到预测的评分\n",
    "        return rating_pred\n",
    "    \n",
    "    def update(self,user_grad,item_grad,lr): # 更新参数的方法\n",
    "        self.user_params-=lr*user_grad # 根据梯度下降算法，将用户特征矩阵self.user_params减去学习率乘以用户特征矩阵的梯度，从而更新用户特征矩阵\n",
    "        self.item_params-=lr*item_grad"
   ],
   "id": "f5a8cba49db85a9",
   "outputs": [],
   "execution_count": 8
  },
  {
   "metadata": {
    "ExecuteTime": {
     "end_time": "2025-03-04T13:45:50.159231Z",
     "start_time": "2025-03-04T13:45:50.154158Z"
    }
   },
   "cell_type": "code",
   "source": [
    "def train(model,learning_rate,lbd,max_training_step,batch_size):\n",
    "    '''\n",
    "    \n",
    "    :param model: 矩阵分解模型\n",
    "    :param learning_rate: 学习率，用于控制参数更新的步长\n",
    "    :param lbd: 正则化系数，用于防止过拟合\n",
    "    :param max_training_step: 最大训练轮数\n",
    "    :param batch_size: 每个批次的样本数量\n",
    "    :return: \n",
    "    '''\n",
    "    train_losses=[] # 分别用于存储每一轮训练后训练集和测试集的均方根误差（RMSE）\n",
    "    test_losses=[]\n",
    "    batch_num=int(np.ceil(len(user_train)/batch_size)) # 计算训练集需要划分的批次数量,ceil是计算数组元素向上取整的函数\n",
    "    with tqdm(range(max_training_step*batch_num))as pbar: # 使用tqdm库创建一个进度条，用于显示训练的进度\n",
    "        for epoch in range(max_training_step): # 外层循环，控制训练的轮数\n",
    "            train_rmse=0 # 初始化每一轮训练的均方误差（MSE）累加器。\n",
    "            for i in range(batch_num): # 内层循环，遍历每个批次\n",
    "                st=i*batch_size # 计算当前批次的起始和结束索引，确保最后一个批次不会超出训练集的范围。\n",
    "                ed=min(len(user_train),st+batch_size) # 计算当前批次的起始和结束索引，确保最后一个批次不会超出训练集的范围。\n",
    "                user_batch=user_train[st:ed] # 从训练集中提取当前批次的用户ID、电影ID和真实评分。\n",
    "                item_batch=item_train[st:ed] # 从训练集中提取当前批次的用户ID、电影ID和真实评分。\n",
    "                y_batch=y_train[st:ed] # 从训练集中提取当前批次的用户ID、电影ID和真实评分。\n",
    "                y_pred=model.pred(user_batch,item_batch) # 调用模型的 pred方法，预测当前批次的用户对电影的评分。\n",
    "                P=model.user_params # 获取模型的用户特征矩阵\n",
    "                Q=model.item_params # 获取模型的电影特征矩阵\n",
    "                errs=y_batch-y_pred # 计算当前批次的预测误差\n",
    "                P_grad=np.zeros_like(P) # 初始化用户特征矩阵和电影特征矩阵的梯度为零矩阵\n",
    "                Q_grad=np.zeros_like(Q) # 初始化用户特征矩阵和电影特征矩阵的梯度为零矩阵\n",
    "                for user, item, err in zip(user_batch,item_batch,errs): # 遍历当前批次的每个样本，计算梯度\n",
    "                    P_grad[user]=P_grad[user]-err*Q[item]+lbd*P[user]\n",
    "                    Q_grad[item]=Q_grad[item]-err*P[user]+lbd*Q[item]\n",
    "                model.update(P_grad/len(user_batch),Q_grad/len(user_batch),learning_rate) # 调用模型的update方法，根据计算得到的梯度和学习率更新用户特征矩阵和电影特征矩阵的参数\n",
    "                \n",
    "                train_rmse+=np.mean(errs**2) # 累加当前批次的均方误差\n",
    "                \n",
    "                pbar.set_postfix({ # 更新进度条的后缀信息\n",
    "                    'Epoch':epoch,\n",
    "                    'Train RMSE':f'{np.sqrt(train_rmse/(i+1)):.4f}',\n",
    "                    'Test RMSE':f'{test_losses[-1]:.4f}'if test_losses else None\n",
    "                })\n",
    "                pbar.update(1) # 显示训练的进度\n",
    "                \n",
    "            train_rmse=np.sqrt(train_rmse/len(user_train)) # 计算当前轮训练集的 RMSE\n",
    "            train_losses.append(train_rmse) # 将当前轮训练集的RMSE添加到train_losses列表中\n",
    "            y_test_pred=model.pred(user_test,item_test) # 使用训练好的模型对测试集进行预测\n",
    "            test_rmse=np.sqrt(np.mean((y_test-y_test_pred)**2)) # 计算测试集的 RMSE\n",
    "            test_losses.append(test_rmse) # 将当前轮测试集的RMSE添加到test_losses列表中\n",
    "        return train_losses, test_losses"
   ],
   "id": "66c50207ef246614",
   "outputs": [],
   "execution_count": 11
  },
  {
   "metadata": {
    "ExecuteTime": {
     "end_time": "2025-03-04T13:46:19.754059Z",
     "start_time": "2025-03-04T13:45:51.026278Z"
    }
   },
   "cell_type": "code",
   "source": [
    "feature_num=16\n",
    "learning_rate=0.1\n",
    "lbd=1e-4\n",
    "max_training_step=30\n",
    "batch_size=64\n",
    "\n",
    "model=MF(user_num,item_num,feature_num) # 创建一个MF类的实例\n",
    "train_losses,test_losses=train(model,learning_rate,lbd,max_training_step,batch_size) # 调用train函数对模型进行训练\n",
    "plt.figure()\n",
    "x=np.arange(max_training_step)+1 # x轴\n",
    "plt.plot(x,train_losses,color='blue',label='train loss')\n",
    "plt.plot(x,test_losses,color='red',ls='--',label='test loss')\n",
    "plt.xlabel('Epoch')\n",
    "plt.ylabel('RMSE')\n",
    "plt.legend()\n",
    "plt.show()"
   ],
   "id": "f8332e2c746903f7",
   "outputs": [
    {
     "name": "stderr",
     "output_type": "stream",
     "text": [
      "  8%|▊         | 2976/37500 [00:02<00:26, 1293.80it/s, Epoch=2, Train RMSE=1.7490, Test RMSE=1.8760]IOPub message rate exceeded.\n",
      "The Jupyter server will temporarily stop sending output\n",
      "to the client in order to avoid crashing it.\n",
      "To change this limit, set the config variable\n",
      "`--ServerApp.iopub_msg_rate_limit`.\n",
      "\n",
      "Current values:\n",
      "ServerApp.iopub_msg_rate_limit=1000.0 (msgs/sec)\n",
      "ServerApp.rate_limit_window=3.0 (secs)\n",
      "\n",
      " 20%|█▉        | 7495/37500 [00:05<00:24, 1238.28it/s, Epoch=5, Train RMSE=1.3578, Test RMSE=1.4528]IOPub message rate exceeded.\n",
      "The Jupyter server will temporarily stop sending output\n",
      "to the client in order to avoid crashing it.\n",
      "To change this limit, set the config variable\n",
      "`--ServerApp.iopub_msg_rate_limit`.\n",
      "\n",
      "Current values:\n",
      "ServerApp.iopub_msg_rate_limit=1000.0 (msgs/sec)\n",
      "ServerApp.rate_limit_window=3.0 (secs)\n",
      "\n",
      " 32%|███▏      | 12031/37500 [00:09<00:19, 1308.74it/s, Epoch=9, Train RMSE=1.1901, Test RMSE=1.2464]IOPub message rate exceeded.\n",
      "The Jupyter server will temporarily stop sending output\n",
      "to the client in order to avoid crashing it.\n",
      "To change this limit, set the config variable\n",
      "`--ServerApp.iopub_msg_rate_limit`.\n",
      "\n",
      "Current values:\n",
      "ServerApp.iopub_msg_rate_limit=1000.0 (msgs/sec)\n",
      "ServerApp.rate_limit_window=3.0 (secs)\n",
      "\n",
      " 44%|████▍     | 16470/37500 [00:12<00:16, 1243.93it/s, Epoch=13, Train RMSE=1.1065, Test RMSE=1.1424]IOPub message rate exceeded.\n",
      "The Jupyter server will temporarily stop sending output\n",
      "to the client in order to avoid crashing it.\n",
      "To change this limit, set the config variable\n",
      "`--ServerApp.iopub_msg_rate_limit`.\n",
      "\n",
      "Current values:\n",
      "ServerApp.iopub_msg_rate_limit=1000.0 (msgs/sec)\n",
      "ServerApp.rate_limit_window=3.0 (secs)\n",
      "\n",
      " 56%|█████▌    | 21024/37500 [00:16<00:14, 1114.44it/s, Epoch=16, Train RMSE=1.0513, Test RMSE=1.0944]IOPub message rate exceeded.\n",
      "The Jupyter server will temporarily stop sending output\n",
      "to the client in order to avoid crashing it.\n",
      "To change this limit, set the config variable\n",
      "`--ServerApp.iopub_msg_rate_limit`.\n",
      "\n",
      "Current values:\n",
      "ServerApp.iopub_msg_rate_limit=1000.0 (msgs/sec)\n",
      "ServerApp.rate_limit_window=3.0 (secs)\n",
      "\n",
      " 68%|██████▊   | 25320/37500 [00:19<00:09, 1304.56it/s, Epoch=20, Train RMSE=1.0229, Test RMSE=1.0524]IOPub message rate exceeded.\n",
      "The Jupyter server will temporarily stop sending output\n",
      "to the client in order to avoid crashing it.\n",
      "To change this limit, set the config variable\n",
      "`--ServerApp.iopub_msg_rate_limit`.\n",
      "\n",
      "Current values:\n",
      "ServerApp.iopub_msg_rate_limit=1000.0 (msgs/sec)\n",
      "ServerApp.rate_limit_window=3.0 (secs)\n",
      "\n",
      " 80%|████████  | 30013/37500 [00:23<00:06, 1245.00it/s, Epoch=24, Train RMSE=0.9929, Test RMSE=1.0256]IOPub message rate exceeded.\n",
      "The Jupyter server will temporarily stop sending output\n",
      "to the client in order to avoid crashing it.\n",
      "To change this limit, set the config variable\n",
      "`--ServerApp.iopub_msg_rate_limit`.\n",
      "\n",
      "Current values:\n",
      "ServerApp.iopub_msg_rate_limit=1000.0 (msgs/sec)\n",
      "ServerApp.rate_limit_window=3.0 (secs)\n",
      "\n",
      " 92%|█████████▏| 34613/37500 [00:26<00:02, 1233.85it/s, Epoch=27, Train RMSE=0.9758, Test RMSE=1.0118]IOPub message rate exceeded.\n",
      "The Jupyter server will temporarily stop sending output\n",
      "to the client in order to avoid crashing it.\n",
      "To change this limit, set the config variable\n",
      "`--ServerApp.iopub_msg_rate_limit`.\n",
      "\n",
      "Current values:\n",
      "ServerApp.iopub_msg_rate_limit=1000.0 (msgs/sec)\n",
      "ServerApp.rate_limit_window=3.0 (secs)\n",
      "\n",
      "100%|██████████| 37500/37500 [00:28<00:00, 1308.75it/s, Epoch=29, Train RMSE=0.9673, Test RMSE=1.0048]\n"
     ]
    },
    {
     "data": {
      "text/plain": [
       "<Figure size 640x480 with 1 Axes>"
      ],
      "image/png": "[encoded data removed]"
     },
     "metadata": {},
     "output_type": "display_data"
    }
   ],
   "execution_count": 12
  },
  {
   "metadata": {
    "ExecuteTime": {
     "end_time": "2025-03-04T15:22:31.937552Z",
     "start_time": "2025-03-04T15:22:31.932384Z"
    }
   },
   "cell_type": "code",
   "source": [
    "y_test_pred = model.pred(user_test, item_test)\n",
    "print(y_test_pred[:10]) \n",
    "print(y_test[:10])"
   ],
   "id": "fa7593a662e87d11",
   "outputs": [
    {
     "name": "stdout",
     "output_type": "stream",
     "text": [
      "[2.57712395 3.48622005 3.76150216 3.58604004 4.8058418  3.47284112\n",
      " 3.37246031 4.0917956  3.02605747 3.45742155]\n",
      "[2 4 4 4 5 2 3 1 4 4]\n"
     ]
    }
   ],
   "execution_count": 13
  },
  {
   "metadata": {
    "ExecuteTime": {
     "end_time": "2025-03-04T15:25:52.316525Z",
     "start_time": "2025-03-04T15:25:51.744801Z"
    }
   },
   "cell_type": "code",
   "source": [
    "import numpy as np\n",
    "import matplotlib.pyplot as plt\n",
    "from sklearn import metrics\n",
    "from tqdm import tqdm\n",
    "\n",
    "data = np.loadtxt('fm_dataset.csv', delimiter=',') # 导入数据\n",
    "\n",
    "\n",
    "np.random.seed(0) # 随机种子\n",
    "ratio = 0.8 # 划分比例\n",
    "split = int(ratio * len(data)) # 划分具体边界\n",
    "x_train = data[:split, :-1] # 划分训练集数据和标签\n",
    "y_train = data[:split, -1]\n",
    "x_test = data[split:, :-1] # 划分测试集数据和标签\n",
    "y_test = data[split:, -1]\n",
    "\n",
    "feature_num = x_train.shape[1] # 获取特征的数量\n",
    "print('训练集大小：', len(x_train))\n",
    "print('测试集大小：', len(x_test))\n",
    "print('特征数：', feature_num)"
   ],
   "id": "983384553cfbdf3",
   "outputs": [
    {
     "name": "stdout",
     "output_type": "stream",
     "text": [
      "训练集大小： 800\n",
      "测试集大小： 200\n",
      "特征数： 24\n"
     ]
    }
   ],
   "execution_count": 14
  },
  {
   "metadata": {
    "ExecuteTime": {
     "end_time": "2025-03-04T15:26:03.875941Z",
     "start_time": "2025-03-04T15:26:03.872429Z"
    }
   },
   "cell_type": "code",
   "source": [
    "class FM:\n",
    "\n",
    "    def __init__(self, feature_num, vector_dim):\n",
    "        self.theta0 = 0.0 # 常数项\n",
    "        self.theta = np.zeros(feature_num) # 线性参数，用于表示每个特征的线性权重\n",
    "        self.v = np.random.normal(size=(feature_num, vector_dim)) # 双线性参数，通过np.random.normal函数从正态分布中随机初始化，用于表示特征之间的交互信息。\n",
    "        self.eps = 1e-6 # 精度参数，防止出现数值不稳定的情况\n",
    "        \n",
    "    def _logistic(self, x):\n",
    "        # 逻辑斯蒂工具函数，用于将预测转化为概率，将输入的实数 x映射到(0,1)区间\n",
    "        return 1 / (1 + np.exp(-x))\n",
    "\n",
    "    def pred(self, x):\n",
    "        # 其中x@self.theta表示输入特征矩阵x与线性参数向量θ的点积，再加上常数项θ0\n",
    "        linear_term = self.theta0 + x @ self.theta \n",
    "        # 先计算输入特征矩阵 x与双线性参数矩阵V的点积，然后对结果进行平方。\n",
    "        square_of_sum = np.square(x @ self.v)\n",
    "        sum_of_square = np.square(x) @ np.square(self.v)\n",
    "        # 最终预测\n",
    "        y_pred = self._logistic(linear_term \\\n",
    "            + 0.5 * np.sum(square_of_sum - sum_of_square, axis=1))\n",
    "        # 为了防止后续梯度过大，对预测值进行裁剪，将其限制在某一范围内\n",
    "        y_pred = np.clip(y_pred, self.eps, 1 - self.eps)\n",
    "        return y_pred\n",
    "    \n",
    "    def update(self, grad0, grad_theta, grad_v, lr):\n",
    "        self.theta0 -= lr * grad0\n",
    "        self.theta -= lr * grad_theta\n",
    "        self.v -= lr * grad_v"
   ],
   "id": "9ae06afbae19ad0b",
   "outputs": [],
   "execution_count": 15
  },
  {
   "metadata": {
    "ExecuteTime": {
     "end_time": "2025-03-04T15:26:25.365875Z",
     "start_time": "2025-03-04T15:26:14.010156Z"
    }
   },
   "cell_type": "code",
   "source": [
    "# 超参数设置，包括学习率、训练轮数等\n",
    "vector_dim = 16\n",
    "learning_rate = 0.01\n",
    "lbd = 0.05\n",
    "max_training_step = 200\n",
    "batch_size = 32\n",
    "\n",
    "# 初始化模型\n",
    "np.random.seed(0)\n",
    "model = FM(feature_num, vector_dim)\n",
    "\n",
    "train_acc = []\n",
    "test_acc = []\n",
    "train_auc = []\n",
    "test_auc = []\n",
    "\n",
    "with tqdm(range(max_training_step)) as pbar: # 创建一个进度条\n",
    "    for epoch in pbar: # 外层for循环控制训练轮数，内层while循环将训练集按批次进行处理\n",
    "        st = 0\n",
    "        while st < len(x_train):\n",
    "            ed = min(st + batch_size, len(x_train)) # 确保最后一个批次的样本数量不超过batch_size\n",
    "            X = x_train[st: ed]\n",
    "            Y = y_train[st: ed]\n",
    "            st += batch_size # 起始点索引\n",
    "            y_pred = model.pred(X) # 调用 FM 模型的 pred 方法，对当前批次的特征数据进行预测\n",
    "            # 计算交叉熵损失\n",
    "            cross_entropy = -Y * np.log(y_pred)- (1 - Y) * np.log(1 - y_pred)\n",
    "            loss = np.sum(cross_entropy) # 将当前批次的交叉熵损失求和\n",
    "            grad_y = (y_pred - Y).reshape(-1, 1) # 计算损失函数对预测值y的梯度\n",
    "            grad0 = np.sum(grad_y * (1 / len(X) + lbd)) # 计算损失函数对常数项θ0的梯度，同时加入正则项。\n",
    "            grad_theta = np.sum(grad_y * (X / len(X)+ lbd * model.theta), axis=0)\n",
    "            grad_v = np.zeros((feature_num, vector_dim)) # 计算损失函数对线性参数θ的梯度，同样加入正则项。\n",
    "            for i, x in enumerate(X):\n",
    "                # 先计算sum(x_i * v_i)\n",
    "                xv = x @ model.v\n",
    "                grad_vi = np.zeros((feature_num, vector_dim))\n",
    "                for s in range(feature_num):\n",
    "                    grad_vi[s] += x[s] * xv - (x[s] ** 2) * model.v[s]\n",
    "                grad_v += grad_y[i] * grad_vi\n",
    "            grad_v = grad_v / len(X) + lbd * model.v\n",
    "            model.update(grad0, grad_theta, grad_v, learning_rate) # 调用FM模型的update方法，根据计算得到的梯度和学习率更新模型的参数\n",
    "\n",
    "            pbar.set_postfix({\n",
    "                '训练轮数': epoch,\n",
    "                '训练损失': f'{loss:.4f}',\n",
    "                '训练集准确率': train_acc[-1] if train_acc else None,\n",
    "                '测试集准确率': test_acc[-1] if test_acc else None\n",
    "            })\n",
    "        y_train_pred = (model.pred(x_train) >= 0.5) # 预测准确率，阈值设置为0.5\n",
    "        acc = np.mean(y_train_pred == y_train)\n",
    "        train_acc.append(acc)\n",
    "        auc = metrics.roc_auc_score(y_train, y_train_pred) # sklearn中的AUC函数\n",
    "        train_auc.append(auc)\n",
    "\n",
    "        y_test_pred = (model.pred(x_test) >= 0.5)\n",
    "        acc = np.mean(y_test_pred == y_test)\n",
    "        test_acc.append(acc)\n",
    "        auc = metrics.roc_auc_score(y_test, y_test_pred) \n",
    "        test_auc.append(auc)\n",
    "            \n",
    "print(f'测试集准确率：{test_acc[-1]}，\\t测试集AUC：{test_auc[-1]}')"
   ],
   "id": "365a1fda8cbe4c14",
   "outputs": [
    {
     "name": "stderr",
     "output_type": "stream",
     "text": [
      "100%|██████████| 200/200 [00:11<00:00, 17.62it/s, 训练轮数=199, 训练损失=11.3006, 训练集准确率=0.816, 测试集准确率=0.785]"
     ]
    },
    {
     "name": "stdout",
     "output_type": "stream",
     "text": [
      "测试集准确率：0.79，\t测试集AUC：0.7201320910484726\n"
     ]
    },
    {
     "name": "stderr",
     "output_type": "stream",
     "text": [
      "\n"
     ]
    }
   ],
   "execution_count": 16
  },
  {
   "metadata": {
    "ExecuteTime": {
     "end_time": "2025-03-04T15:26:25.470372Z",
     "start_time": "2025-03-04T15:26:25.365875Z"
    }
   },
   "cell_type": "code",
   "source": [
    "# 绘制训练曲线            \n",
    "plt.figure(figsize=(13, 5))\n",
    "x_plot = np.arange(len(train_acc)) + 1\n",
    "\n",
    "plt.subplot(121)\n",
    "plt.plot(x_plot, train_acc, color='blue', label='train acc')\n",
    "plt.plot(x_plot, test_acc, color='red', ls='--', label='test acc')\n",
    "plt.xlabel('Epoch')\n",
    "plt.ylabel('Accuracy')\n",
    "plt.legend()\n",
    "\n",
    "plt.subplot(122)\n",
    "plt.plot(x_plot, train_auc, color='blue', label='train AUC')\n",
    "plt.plot(x_plot, test_auc, color='red', ls='--', label='test AUC')\n",
    "plt.xlabel('Epoch')\n",
    "plt.ylabel('AUC')\n",
    "plt.legend()\n",
    "plt.show()"
   ],
   "id": "32b4ac7cf3d63d8d",
   "outputs": [
    {
     "data": {
      "text/plain": [
       "<Figure size 1300x500 with 2 Axes>"
      ],
      "image/png": "[encoded data removed]"
     },
     "metadata": {},
     "output_type": "display_data"
    }
   ],
   "execution_count": 17
  },
  {
   "metadata": {},
   "cell_type": "code",
   "outputs": [],
   "execution_count": null,
   "source": "",
   "id": "c9ca7a6ef94513e8"
  }
 ],
 "metadata": {
  "kernelspec": {
   "display_name": "Python 3",
   "language": "python",
   "name": "python3"
  },
  "language_info": {
   "codemirror_mode": {
    "name": "ipython",
    "version": 2
   },
   "file_extension": ".py",
   "mimetype": "text/x-python",
   "name": "python",
   "nbconvert_exporter": "python",
   "pygments_lexer": "ipython2",
   "version": "2.7.6"
  }
 },
 "nbformat": 4,
 "nbformat_minor": 5
}
